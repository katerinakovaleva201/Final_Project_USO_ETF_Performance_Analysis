{
 "cells": [
  {
   "cell_type": "markdown",
   "id": "32d1edf4",
   "metadata": {},
   "source": [
    "# USO ETF Price Prediction with PCA and Regression"
   ]
  },
  {
   "cell_type": "code",
   "execution_count": 1,
   "id": "0d82c1e3",
   "metadata": {},
   "outputs": [],
   "source": [
    "import pandas as pd\n",
    "import numpy as np\n",
    "%matplotlib inline\n",
    "import matplotlib.pyplot as plt\n",
    "import matplotlib\n",
    "from sklearn.preprocessing import MinMaxScaler\n",
    "from sklearn.ensemble import RandomForestRegressor\n",
    "from matplotlib.pyplot import figure\n",
    "import seaborn as sns\n",
    "from sklearn.model_selection import GridSearchCV\n",
    "from sklearn.model_selection import TimeSeriesSplit\n",
    "from sklearn.metrics import mean_squared_error, r2_score\n",
    "import matplotlib.dates as mdates\n",
    "from sklearn import linear_model\n",
    "from sklearn.model_selection import TimeSeriesSplit\n",
    "from sklearn.svm import SVR\n",
    "import os\n",
    "for dirname, _, filenames in os.walk('/kaggle/input'):\n",
    "    for filename in filenames:\n",
    "        print(os.path.join(dirname, filename))"
   ]
  },
  {
   "cell_type": "code",
   "execution_count": 2,
   "id": "b4406230",
   "metadata": {},
   "outputs": [
    {
     "name": "stdout",
     "output_type": "stream",
     "text": [
      "Requirement already satisfied: xgboost in /Users/katerina/opt/anaconda3/lib/python3.9/site-packages (1.7.4)\n",
      "Requirement already satisfied: scipy in /Users/katerina/opt/anaconda3/lib/python3.9/site-packages (from xgboost) (1.9.1)\n",
      "Requirement already satisfied: numpy in /Users/katerina/opt/anaconda3/lib/python3.9/site-packages (from xgboost) (1.21.5)\n",
      "Note: you may need to restart the kernel to use updated packages.\n"
     ]
    }
   ],
   "source": [
    "pip install xgboost"
   ]
  },
  {
   "cell_type": "code",
   "execution_count": 3,
   "id": "2639b07b",
   "metadata": {},
   "outputs": [],
   "source": [
    "import math\n",
    "import seaborn as sns\n",
    "import xgboost\n",
    "from sklearn.linear_model import LinearRegression\n",
    "from sklearn.metrics import mean_absolute_error\n",
    "from sklearn.metrics import accuracy_score\n",
    "from sklearn.metrics import mean_squared_error\n",
    "from sklearn.metrics import r2_score\n",
    "from sklearn.model_selection import train_test_split\n",
    "from sklearn.pipeline import Pipeline\n",
    "from sklearn.compose import ColumnTransformer\n",
    "from sklearn.model_selection import cross_val_score\n",
    "from xgboost import XGBRegressor\n",
    "from sklearn.pipeline import make_pipeline\n",
    "from sklearn.ensemble import RandomForestClassifier\n",
    "from sklearn.feature_selection import mutual_info_regression\n",
    "from sklearn.decomposition import PCA"
   ]
  },
  {
   "cell_type": "code",
   "execution_count": 4,
   "id": "5e24d91c",
   "metadata": {},
   "outputs": [],
   "source": [
    "# USO_ETF"
   ]
  },
  {
   "cell_type": "code",
   "execution_count": 5,
   "id": "acb27a4d",
   "metadata": {},
   "outputs": [],
   "source": [
    "df_final = pd.read_csv(\"/Users/katerina/Documents/Ironhack/USO_ETF/Ready Datasets/USO_ETF.csv\")"
   ]
  },
  {
   "cell_type": "code",
   "execution_count": 6,
   "id": "f9d98460",
   "metadata": {},
   "outputs": [
    {
     "data": {
      "text/html": [
       "<div>\n",
       "<style scoped>\n",
       "    .dataframe tbody tr th:only-of-type {\n",
       "        vertical-align: middle;\n",
       "    }\n",
       "\n",
       "    .dataframe tbody tr th {\n",
       "        vertical-align: top;\n",
       "    }\n",
       "\n",
       "    .dataframe thead th {\n",
       "        text-align: right;\n",
       "    }\n",
       "</style>\n",
       "<table border=\"1\" class=\"dataframe\">\n",
       "  <thead>\n",
       "    <tr style=\"text-align: right;\">\n",
       "      <th></th>\n",
       "      <th>Date</th>\n",
       "      <th>XOM_Open</th>\n",
       "      <th>XOM_Close</th>\n",
       "      <th>XOM_High</th>\n",
       "      <th>XOM_Low</th>\n",
       "      <th>XOM_Adj_Close</th>\n",
       "      <th>XOM_Volume</th>\n",
       "      <th>BZ_Open</th>\n",
       "      <th>BZ_Close</th>\n",
       "      <th>BZ_High</th>\n",
       "      <th>...</th>\n",
       "      <th>USDI_Price</th>\n",
       "      <th>USDI_Open</th>\n",
       "      <th>USDI_High</th>\n",
       "      <th>USDI_Low</th>\n",
       "      <th>USO_Open</th>\n",
       "      <th>USO_Close</th>\n",
       "      <th>USO_High</th>\n",
       "      <th>USO_Low</th>\n",
       "      <th>USO_Adj_Close</th>\n",
       "      <th>USO_Volume</th>\n",
       "    </tr>\n",
       "  </thead>\n",
       "  <tbody>\n",
       "    <tr>\n",
       "      <th>0</th>\n",
       "      <td>2013-03-11</td>\n",
       "      <td>89.01</td>\n",
       "      <td>89.16</td>\n",
       "      <td>89.55</td>\n",
       "      <td>88.54</td>\n",
       "      <td>58.3023</td>\n",
       "      <td>12454800</td>\n",
       "      <td>110.51</td>\n",
       "      <td>110.22</td>\n",
       "      <td>110.66</td>\n",
       "      <td>...</td>\n",
       "      <td>82.57</td>\n",
       "      <td>82.78</td>\n",
       "      <td>82.83</td>\n",
       "      <td>82.52</td>\n",
       "      <td>262.88</td>\n",
       "      <td>264.32</td>\n",
       "      <td>265.20</td>\n",
       "      <td>261.60</td>\n",
       "      <td>264.32</td>\n",
       "      <td>249738</td>\n",
       "    </tr>\n",
       "    <tr>\n",
       "      <th>1</th>\n",
       "      <td>2013-03-12</td>\n",
       "      <td>89.45</td>\n",
       "      <td>89.16</td>\n",
       "      <td>89.91</td>\n",
       "      <td>89.01</td>\n",
       "      <td>58.3023</td>\n",
       "      <td>11470000</td>\n",
       "      <td>110.13</td>\n",
       "      <td>109.65</td>\n",
       "      <td>111.18</td>\n",
       "      <td>...</td>\n",
       "      <td>82.58</td>\n",
       "      <td>82.66</td>\n",
       "      <td>82.79</td>\n",
       "      <td>82.41</td>\n",
       "      <td>267.68</td>\n",
       "      <td>266.08</td>\n",
       "      <td>268.80</td>\n",
       "      <td>265.76</td>\n",
       "      <td>266.08</td>\n",
       "      <td>424188</td>\n",
       "    </tr>\n",
       "    <tr>\n",
       "      <th>2</th>\n",
       "      <td>2013-03-13</td>\n",
       "      <td>89.02</td>\n",
       "      <td>89.26</td>\n",
       "      <td>89.50</td>\n",
       "      <td>88.83</td>\n",
       "      <td>58.3677</td>\n",
       "      <td>10539900</td>\n",
       "      <td>109.71</td>\n",
       "      <td>108.52</td>\n",
       "      <td>109.82</td>\n",
       "      <td>...</td>\n",
       "      <td>82.89</td>\n",
       "      <td>82.60</td>\n",
       "      <td>83.06</td>\n",
       "      <td>82.33</td>\n",
       "      <td>268.00</td>\n",
       "      <td>265.52</td>\n",
       "      <td>268.48</td>\n",
       "      <td>264.24</td>\n",
       "      <td>265.52</td>\n",
       "      <td>422175</td>\n",
       "    </tr>\n",
       "    <tr>\n",
       "      <th>3</th>\n",
       "      <td>2013-03-14</td>\n",
       "      <td>89.41</td>\n",
       "      <td>89.83</td>\n",
       "      <td>89.91</td>\n",
       "      <td>89.41</td>\n",
       "      <td>58.7404</td>\n",
       "      <td>13775500</td>\n",
       "      <td>108.60</td>\n",
       "      <td>109.42</td>\n",
       "      <td>109.94</td>\n",
       "      <td>...</td>\n",
       "      <td>82.61</td>\n",
       "      <td>82.90</td>\n",
       "      <td>83.17</td>\n",
       "      <td>82.43</td>\n",
       "      <td>266.08</td>\n",
       "      <td>267.36</td>\n",
       "      <td>267.84</td>\n",
       "      <td>265.84</td>\n",
       "      <td>267.36</td>\n",
       "      <td>262925</td>\n",
       "    </tr>\n",
       "    <tr>\n",
       "      <th>4</th>\n",
       "      <td>2013-03-15</td>\n",
       "      <td>89.20</td>\n",
       "      <td>89.37</td>\n",
       "      <td>89.61</td>\n",
       "      <td>88.79</td>\n",
       "      <td>58.4397</td>\n",
       "      <td>29240100</td>\n",
       "      <td>109.37</td>\n",
       "      <td>109.82</td>\n",
       "      <td>110.52</td>\n",
       "      <td>...</td>\n",
       "      <td>82.13</td>\n",
       "      <td>82.54</td>\n",
       "      <td>82.61</td>\n",
       "      <td>82.05</td>\n",
       "      <td>268.88</td>\n",
       "      <td>268.80</td>\n",
       "      <td>269.20</td>\n",
       "      <td>267.36</td>\n",
       "      <td>268.80</td>\n",
       "      <td>311300</td>\n",
       "    </tr>\n",
       "    <tr>\n",
       "      <th>...</th>\n",
       "      <td>...</td>\n",
       "      <td>...</td>\n",
       "      <td>...</td>\n",
       "      <td>...</td>\n",
       "      <td>...</td>\n",
       "      <td>...</td>\n",
       "      <td>...</td>\n",
       "      <td>...</td>\n",
       "      <td>...</td>\n",
       "      <td>...</td>\n",
       "      <td>...</td>\n",
       "      <td>...</td>\n",
       "      <td>...</td>\n",
       "      <td>...</td>\n",
       "      <td>...</td>\n",
       "      <td>...</td>\n",
       "      <td>...</td>\n",
       "      <td>...</td>\n",
       "      <td>...</td>\n",
       "      <td>...</td>\n",
       "      <td>...</td>\n",
       "    </tr>\n",
       "    <tr>\n",
       "      <th>2396</th>\n",
       "      <td>2022-09-14</td>\n",
       "      <td>96.19</td>\n",
       "      <td>97.67</td>\n",
       "      <td>98.56</td>\n",
       "      <td>96.15</td>\n",
       "      <td>96.1501</td>\n",
       "      <td>22655700</td>\n",
       "      <td>93.49</td>\n",
       "      <td>94.10</td>\n",
       "      <td>95.81</td>\n",
       "      <td>...</td>\n",
       "      <td>109.60</td>\n",
       "      <td>109.83</td>\n",
       "      <td>109.93</td>\n",
       "      <td>109.28</td>\n",
       "      <td>72.72</td>\n",
       "      <td>72.73</td>\n",
       "      <td>73.72</td>\n",
       "      <td>72.25</td>\n",
       "      <td>72.73</td>\n",
       "      <td>2594400</td>\n",
       "    </tr>\n",
       "    <tr>\n",
       "      <th>2397</th>\n",
       "      <td>2022-09-15</td>\n",
       "      <td>96.22</td>\n",
       "      <td>94.83</td>\n",
       "      <td>96.54</td>\n",
       "      <td>94.05</td>\n",
       "      <td>93.3543</td>\n",
       "      <td>21092300</td>\n",
       "      <td>94.43</td>\n",
       "      <td>90.84</td>\n",
       "      <td>91.63</td>\n",
       "      <td>...</td>\n",
       "      <td>109.80</td>\n",
       "      <td>109.60</td>\n",
       "      <td>109.92</td>\n",
       "      <td>109.42</td>\n",
       "      <td>71.09</td>\n",
       "      <td>69.76</td>\n",
       "      <td>71.15</td>\n",
       "      <td>69.34</td>\n",
       "      <td>69.76</td>\n",
       "      <td>3898100</td>\n",
       "    </tr>\n",
       "    <tr>\n",
       "      <th>2398</th>\n",
       "      <td>2022-09-16</td>\n",
       "      <td>95.07</td>\n",
       "      <td>93.21</td>\n",
       "      <td>95.34</td>\n",
       "      <td>92.00</td>\n",
       "      <td>91.7596</td>\n",
       "      <td>37874700</td>\n",
       "      <td>90.65</td>\n",
       "      <td>91.35</td>\n",
       "      <td>92.64</td>\n",
       "      <td>...</td>\n",
       "      <td>109.64</td>\n",
       "      <td>109.80</td>\n",
       "      <td>110.26</td>\n",
       "      <td>109.48</td>\n",
       "      <td>70.33</td>\n",
       "      <td>69.90</td>\n",
       "      <td>70.81</td>\n",
       "      <td>69.44</td>\n",
       "      <td>69.90</td>\n",
       "      <td>3384500</td>\n",
       "    </tr>\n",
       "    <tr>\n",
       "      <th>2399</th>\n",
       "      <td>2022-09-19</td>\n",
       "      <td>91.01</td>\n",
       "      <td>93.20</td>\n",
       "      <td>93.49</td>\n",
       "      <td>91.00</td>\n",
       "      <td>91.7497</td>\n",
       "      <td>15342100</td>\n",
       "      <td>91.65</td>\n",
       "      <td>92.00</td>\n",
       "      <td>92.58</td>\n",
       "      <td>...</td>\n",
       "      <td>109.54</td>\n",
       "      <td>109.55</td>\n",
       "      <td>110.18</td>\n",
       "      <td>109.49</td>\n",
       "      <td>67.62</td>\n",
       "      <td>70.05</td>\n",
       "      <td>70.27</td>\n",
       "      <td>67.49</td>\n",
       "      <td>70.05</td>\n",
       "      <td>2863900</td>\n",
       "    </tr>\n",
       "    <tr>\n",
       "      <th>2400</th>\n",
       "      <td>2022-09-20</td>\n",
       "      <td>92.73</td>\n",
       "      <td>92.44</td>\n",
       "      <td>92.93</td>\n",
       "      <td>91.64</td>\n",
       "      <td>91.0015</td>\n",
       "      <td>14712500</td>\n",
       "      <td>91.97</td>\n",
       "      <td>90.62</td>\n",
       "      <td>91.03</td>\n",
       "      <td>...</td>\n",
       "      <td>110.12</td>\n",
       "      <td>109.54</td>\n",
       "      <td>110.23</td>\n",
       "      <td>109.36</td>\n",
       "      <td>69.54</td>\n",
       "      <td>69.22</td>\n",
       "      <td>69.59</td>\n",
       "      <td>68.41</td>\n",
       "      <td>69.22</td>\n",
       "      <td>3569200</td>\n",
       "    </tr>\n",
       "  </tbody>\n",
       "</table>\n",
       "<p>2401 rows × 64 columns</p>\n",
       "</div>"
      ],
      "text/plain": [
       "            Date  XOM_Open  XOM_Close  XOM_High  XOM_Low  XOM_Adj_Close  \\\n",
       "0     2013-03-11     89.01      89.16     89.55    88.54        58.3023   \n",
       "1     2013-03-12     89.45      89.16     89.91    89.01        58.3023   \n",
       "2     2013-03-13     89.02      89.26     89.50    88.83        58.3677   \n",
       "3     2013-03-14     89.41      89.83     89.91    89.41        58.7404   \n",
       "4     2013-03-15     89.20      89.37     89.61    88.79        58.4397   \n",
       "...          ...       ...        ...       ...      ...            ...   \n",
       "2396  2022-09-14     96.19      97.67     98.56    96.15        96.1501   \n",
       "2397  2022-09-15     96.22      94.83     96.54    94.05        93.3543   \n",
       "2398  2022-09-16     95.07      93.21     95.34    92.00        91.7596   \n",
       "2399  2022-09-19     91.01      93.20     93.49    91.00        91.7497   \n",
       "2400  2022-09-20     92.73      92.44     92.93    91.64        91.0015   \n",
       "\n",
       "      XOM_Volume  BZ_Open  BZ_Close  BZ_High  ...  USDI_Price  USDI_Open  \\\n",
       "0       12454800   110.51    110.22   110.66  ...       82.57      82.78   \n",
       "1       11470000   110.13    109.65   111.18  ...       82.58      82.66   \n",
       "2       10539900   109.71    108.52   109.82  ...       82.89      82.60   \n",
       "3       13775500   108.60    109.42   109.94  ...       82.61      82.90   \n",
       "4       29240100   109.37    109.82   110.52  ...       82.13      82.54   \n",
       "...          ...      ...       ...      ...  ...         ...        ...   \n",
       "2396    22655700    93.49     94.10    95.81  ...      109.60     109.83   \n",
       "2397    21092300    94.43     90.84    91.63  ...      109.80     109.60   \n",
       "2398    37874700    90.65     91.35    92.64  ...      109.64     109.80   \n",
       "2399    15342100    91.65     92.00    92.58  ...      109.54     109.55   \n",
       "2400    14712500    91.97     90.62    91.03  ...      110.12     109.54   \n",
       "\n",
       "      USDI_High  USDI_Low  USO_Open  USO_Close  USO_High  USO_Low  \\\n",
       "0         82.83     82.52    262.88     264.32    265.20   261.60   \n",
       "1         82.79     82.41    267.68     266.08    268.80   265.76   \n",
       "2         83.06     82.33    268.00     265.52    268.48   264.24   \n",
       "3         83.17     82.43    266.08     267.36    267.84   265.84   \n",
       "4         82.61     82.05    268.88     268.80    269.20   267.36   \n",
       "...         ...       ...       ...        ...       ...      ...   \n",
       "2396     109.93    109.28     72.72      72.73     73.72    72.25   \n",
       "2397     109.92    109.42     71.09      69.76     71.15    69.34   \n",
       "2398     110.26    109.48     70.33      69.90     70.81    69.44   \n",
       "2399     110.18    109.49     67.62      70.05     70.27    67.49   \n",
       "2400     110.23    109.36     69.54      69.22     69.59    68.41   \n",
       "\n",
       "      USO_Adj_Close  USO_Volume  \n",
       "0            264.32      249738  \n",
       "1            266.08      424188  \n",
       "2            265.52      422175  \n",
       "3            267.36      262925  \n",
       "4            268.80      311300  \n",
       "...             ...         ...  \n",
       "2396          72.73     2594400  \n",
       "2397          69.76     3898100  \n",
       "2398          69.90     3384500  \n",
       "2399          70.05     2863900  \n",
       "2400          69.22     3569200  \n",
       "\n",
       "[2401 rows x 64 columns]"
      ]
     },
     "execution_count": 6,
     "metadata": {},
     "output_type": "execute_result"
    }
   ],
   "source": [
    "df_final"
   ]
  },
  {
   "cell_type": "code",
   "execution_count": 7,
   "id": "906174d5",
   "metadata": {},
   "outputs": [
    {
     "data": {
      "text/plain": [
       "Date              object\n",
       "XOM_Open         float64\n",
       "XOM_Close        float64\n",
       "XOM_High         float64\n",
       "XOM_Low          float64\n",
       "                  ...   \n",
       "USO_Close        float64\n",
       "USO_High         float64\n",
       "USO_Low          float64\n",
       "USO_Adj_Close    float64\n",
       "USO_Volume         int64\n",
       "Length: 64, dtype: object"
      ]
     },
     "execution_count": 7,
     "metadata": {},
     "output_type": "execute_result"
    }
   ],
   "source": [
    "df_final.dtypes"
   ]
  },
  {
   "cell_type": "code",
   "execution_count": 8,
   "id": "80934543",
   "metadata": {},
   "outputs": [
    {
     "data": {
      "text/plain": [
       "Date             datetime64[ns]\n",
       "XOM_Open                float64\n",
       "XOM_Close               float64\n",
       "XOM_High                float64\n",
       "XOM_Low                 float64\n",
       "                      ...      \n",
       "USO_Close               float64\n",
       "USO_High                float64\n",
       "USO_Low                 float64\n",
       "USO_Adj_Close           float64\n",
       "USO_Volume                int64\n",
       "Length: 64, dtype: object"
      ]
     },
     "execution_count": 8,
     "metadata": {},
     "output_type": "execute_result"
    }
   ],
   "source": [
    "df_final['Date'] = pd.to_datetime(df_final['Date'])\n",
    "df_final.dtypes"
   ]
  },
  {
   "cell_type": "code",
   "execution_count": null,
   "id": "23117ab2",
   "metadata": {},
   "outputs": [],
   "source": [
    "df_final= pd.to_datetime(df_final['Date'])\n",
    "df_final.dtypes"
   ]
  },
  {
   "cell_type": "code",
   "execution_count": 9,
   "id": "b6fc5d86",
   "metadata": {},
   "outputs": [],
   "source": [
    "df_final.index=df_final.Date\n",
    "uso = df_final[['Date', 'USO_Adj_Close']].copy()"
   ]
  },
  {
   "cell_type": "code",
   "execution_count": 10,
   "id": "141999ac",
   "metadata": {},
   "outputs": [],
   "source": [
    "uso=uso.drop([\"Date\"], axis=1)\n"
   ]
  },
  {
   "cell_type": "code",
   "execution_count": 11,
   "id": "c8e0301f",
   "metadata": {},
   "outputs": [
    {
     "data": {
      "text/html": [
       "<div>\n",
       "<style scoped>\n",
       "    .dataframe tbody tr th:only-of-type {\n",
       "        vertical-align: middle;\n",
       "    }\n",
       "\n",
       "    .dataframe tbody tr th {\n",
       "        vertical-align: top;\n",
       "    }\n",
       "\n",
       "    .dataframe thead th {\n",
       "        text-align: right;\n",
       "    }\n",
       "</style>\n",
       "<table border=\"1\" class=\"dataframe\">\n",
       "  <thead>\n",
       "    <tr style=\"text-align: right;\">\n",
       "      <th></th>\n",
       "      <th>USO_Adj_Close</th>\n",
       "    </tr>\n",
       "    <tr>\n",
       "      <th>Date</th>\n",
       "      <th></th>\n",
       "    </tr>\n",
       "  </thead>\n",
       "  <tbody>\n",
       "    <tr>\n",
       "      <th>2013-03-11</th>\n",
       "      <td>264.32</td>\n",
       "    </tr>\n",
       "    <tr>\n",
       "      <th>2013-03-12</th>\n",
       "      <td>266.08</td>\n",
       "    </tr>\n",
       "    <tr>\n",
       "      <th>2013-03-13</th>\n",
       "      <td>265.52</td>\n",
       "    </tr>\n",
       "    <tr>\n",
       "      <th>2013-03-14</th>\n",
       "      <td>267.36</td>\n",
       "    </tr>\n",
       "    <tr>\n",
       "      <th>2013-03-15</th>\n",
       "      <td>268.80</td>\n",
       "    </tr>\n",
       "    <tr>\n",
       "      <th>...</th>\n",
       "      <td>...</td>\n",
       "    </tr>\n",
       "    <tr>\n",
       "      <th>2022-09-14</th>\n",
       "      <td>72.73</td>\n",
       "    </tr>\n",
       "    <tr>\n",
       "      <th>2022-09-15</th>\n",
       "      <td>69.76</td>\n",
       "    </tr>\n",
       "    <tr>\n",
       "      <th>2022-09-16</th>\n",
       "      <td>69.90</td>\n",
       "    </tr>\n",
       "    <tr>\n",
       "      <th>2022-09-19</th>\n",
       "      <td>70.05</td>\n",
       "    </tr>\n",
       "    <tr>\n",
       "      <th>2022-09-20</th>\n",
       "      <td>69.22</td>\n",
       "    </tr>\n",
       "  </tbody>\n",
       "</table>\n",
       "<p>2401 rows × 1 columns</p>\n",
       "</div>"
      ],
      "text/plain": [
       "            USO_Adj_Close\n",
       "Date                     \n",
       "2013-03-11         264.32\n",
       "2013-03-12         266.08\n",
       "2013-03-13         265.52\n",
       "2013-03-14         267.36\n",
       "2013-03-15         268.80\n",
       "...                   ...\n",
       "2022-09-14          72.73\n",
       "2022-09-15          69.76\n",
       "2022-09-16          69.90\n",
       "2022-09-19          70.05\n",
       "2022-09-20          69.22\n",
       "\n",
       "[2401 rows x 1 columns]"
      ]
     },
     "execution_count": 11,
     "metadata": {},
     "output_type": "execute_result"
    }
   ],
   "source": [
    "uso"
   ]
  },
  {
   "cell_type": "code",
   "execution_count": 12,
   "id": "f6220dc9",
   "metadata": {
    "scrolled": true
   },
   "outputs": [],
   "source": [
    "uso = df_final[['Date', 'USO_Adj_Close']].copy()\n",
    "uso['Date'] = pd.to_datetime(uso['Date'])"
   ]
  },
  {
   "cell_type": "code",
   "execution_count": 13,
   "id": "9110e523",
   "metadata": {},
   "outputs": [
    {
     "data": {
      "text/plain": [
       "Date             datetime64[ns]\n",
       "USO_Adj_Close           float64\n",
       "dtype: object"
      ]
     },
     "execution_count": 13,
     "metadata": {},
     "output_type": "execute_result"
    }
   ],
   "source": [
    "uso.dtypes"
   ]
  },
  {
   "cell_type": "code",
   "execution_count": 14,
   "id": "5842811a",
   "metadata": {},
   "outputs": [
    {
     "data": {
      "text/plain": [
       "Index(['Date', 'USO_Adj_Close'], dtype='object')"
      ]
     },
     "execution_count": 14,
     "metadata": {},
     "output_type": "execute_result"
    }
   ],
   "source": [
    "uso.columns"
   ]
  },
  {
   "cell_type": "code",
   "execution_count": 15,
   "id": "691a9e26",
   "metadata": {
    "scrolled": false
   },
   "outputs": [
    {
     "data": {
      "image/png": "[encoded data removed]",
      "text/plain": [
       "<Figure size 640x480 with 1 Axes>"
      ]
     },
     "metadata": {},
     "output_type": "display_data"
    }
   ],
   "source": [
    "uso['USO_Adj_Close'].plot()\n",
    "\n",
    "plt.show()"
   ]
  },
  {
   "cell_type": "code",
   "execution_count": 16,
   "id": "db2e6aaa",
   "metadata": {},
   "outputs": [
    {
     "data": {
      "text/plain": [
       "DatetimeIndex(['2013-03-11', '2013-03-12', '2013-03-13', '2013-03-14',\n",
       "               '2013-03-15', '2013-03-18', '2013-03-19', '2013-03-20',\n",
       "               '2013-03-21', '2013-03-22',\n",
       "               ...\n",
       "               '2022-09-07', '2022-09-08', '2022-09-09', '2022-09-12',\n",
       "               '2022-09-13', '2022-09-14', '2022-09-15', '2022-09-16',\n",
       "               '2022-09-19', '2022-09-20'],\n",
       "              dtype='datetime64[ns]', name='Date', length=2401, freq=None)"
      ]
     },
     "execution_count": 16,
     "metadata": {},
     "output_type": "execute_result"
    }
   ],
   "source": [
    "uso.index"
   ]
  },
  {
   "cell_type": "code",
   "execution_count": 20,
   "id": "c39257e7",
   "metadata": {},
   "outputs": [
    {
     "data": {
      "text/plain": [
       "(432,)"
      ]
     },
     "execution_count": 20,
     "metadata": {},
     "output_type": "execute_result"
    }
   ],
   "source": [
    "train_data = uso[\"USO_Adj_Close\"].loc[:'2021-01-01'] \n",
    "test_data = uso[\"USO_Adj_Close\"].loc['2021-01-01':]\n",
    "test_data.shape"
   ]
  },
  {
   "cell_type": "code",
   "execution_count": 25,
   "id": "f57a9336",
   "metadata": {},
   "outputs": [
    {
     "name": "stderr",
     "output_type": "stream",
     "text": [
      "/Users/katerina/opt/anaconda3/lib/python3.9/site-packages/statsmodels/tsa/base/tsa_model.py:471: ValueWarning: A date index has been provided, but it has no associated frequency information and so will be ignored when e.g. forecasting.\n",
      "  self._init_dates(dates, freq)\n",
      "/Users/katerina/opt/anaconda3/lib/python3.9/site-packages/statsmodels/tsa/base/tsa_model.py:834: ValueWarning: No supported index is available. Prediction results will be given with an integer index beginning at `start`.\n",
      "  return get_prediction_index(\n",
      "/Users/katerina/opt/anaconda3/lib/python3.9/site-packages/statsmodels/tsa/deterministic.py:302: UserWarning: Only PeriodIndexes, DatetimeIndexes with a frequency set, RangesIndexes, and Index with a unit increment support extending. The index is set will contain the position relative to the data length.\n",
      "  fcast_index = self._extend_index(index, steps, forecast_index)\n"
     ]
    },
    {
     "data": {
      "image/png": "[encoded data removed]",
      "text/plain": [
       "<Figure size 640x480 with 1 Axes>"
      ]
     },
     "metadata": {},
     "output_type": "display_data"
    }
   ],
   "source": [
    "#AutoRegression\n",
    "\n",
    "from statsmodels.tsa.api import AutoReg \n",
    "\n",
    "# Split the data into training and testing sets\n",
    "train_data = uso[\"USO_Adj_Close\"].loc[:'2021-01-01'] \n",
    "test_data = uso[\"USO_Adj_Close\"].loc['2021-01-01':]\n",
    "\n",
    "# Fit an autoregressive model with lag 365\n",
    "model = AutoReg(train_data, lags=365)\n",
    "result = model.fit()\n",
    "\n",
    "# Predict the USO ETF prices for the next 21 months \n",
    "pred = result.predict(start=len(train_data), end=len(train_data)+431)\n",
    "#print(result.summary)\n",
    "\n",
    "pred.index = test_data.index\n",
    "\n",
    "# Plot the actual and predicted USO ETF prices\n",
    "plt.plot(train_data.index, train_data, label='Training Data')\n",
    "plt.plot(test_data.index, test_data, label='Testing Data')\n",
    "plt.plot(pred.index, pred.values, label='Predicted Data')\n",
    "plt.legend()\n",
    "plt.show()"
   ]
  }
 ],
 "metadata": {
  "kernelspec": {
   "display_name": "Python 3 (ipykernel)",
   "language": "python",
   "name": "python3"
  },
  "language_info": {
   "codemirror_mode": {
    "name": "ipython",
    "version": 3
   },
   "file_extension": ".py",
   "mimetype": "text/x-python",
   "name": "python",
   "nbconvert_exporter": "python",
   "pygments_lexer": "ipython3",
   "version": "3.9.13"
  }
 },
 "nbformat": 4,
 "nbformat_minor": 5
}
